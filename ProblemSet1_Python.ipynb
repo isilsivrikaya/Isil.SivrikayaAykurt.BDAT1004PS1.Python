{
 "cells": [
  {
   "cell_type": "code",
   "execution_count": 2,
   "id": "6ecfbebc",
   "metadata": {},
   "outputs": [
    {
     "name": "stdout",
     "output_type": "stream",
     "text": [
      "Please enter a word:happy\n",
      " appyhay\n"
     ]
    }
   ],
   "source": [
    "#Question 6 Python\n",
    "def pig ():\n",
    "    ay = 'ay'\n",
    "    way ='way'\n",
    "    consonant = ('b','c','d','f','g','h','j','k','l','m','n','p','q','r','s','t','v','y','x','z')\n",
    "    vowel = ('a','e','i','o','u')\n",
    "    pigLatinString = ''\n",
    "    word = input('Please enter a word:')\n",
    "    firstLetter = word[0]\n",
    "    firstLetter = firstLetter.lower()\n",
    "\n",
    "    if firstLetter in consonant:\n",
    "        lenghtOfWord = len(word)\n",
    "        removeFirstLetter = word[1:lenghtOfWord]\n",
    "        pigLatin = removeFirstLetter + firstLetter + ay\n",
    "        pigLatinString = pigLatinString + ' ' + pigLatin\n",
    "    elif firstLetter in vowel:\n",
    "        pigLatin = word + way\n",
    "        pigLatinString = pigLatinString + ' ' + pigLatin\n",
    "    else:\n",
    "        print('Something went wrong! Please try again.')\n",
    "\n",
    "\n",
    "    print(pigLatinString)\n",
    "\n",
    "pig()\n",
    "\n",
    "    \n"
   ]
  },
  {
   "cell_type": "code",
   "execution_count": 53,
   "id": "95ca367c",
   "metadata": {},
   "outputs": [
    {
     "name": "stdout",
     "output_type": "stream",
     "text": [
      "There are 15 patients of blood type A\n",
      "There is 1 patient of blood type B\n",
      "There are 13 patients of blood type AB\n",
      "There are 15 patients of blood type O\n",
      "There are no patients of blood type OO\n"
     ]
    }
   ],
   "source": [
    "#Question 7 Python\n",
    "\n",
    "with open('bloodtype1.txt') as f:\n",
    "    contents = f.read()\n",
    "    list = contents.split(' ')\n",
    "    a = list.count('A')\n",
    "    b = list.count('B')\n",
    "    c = list.count('AB')\n",
    "    d = list.count('O')\n",
    "    e = list.count ('OO')\n",
    "    \n",
    "    if a>1: \n",
    "        print (\"There are\", a, \"patients of blood type A\")\n",
    "    elif a==1:\n",
    "        print (\"There is\", a, \"patient of blood type A\")\n",
    "    else:\n",
    "        print (\"There are no patients of blood type A\")\n",
    "        \n",
    "    if b>1: \n",
    "        print (\"There are\", b, \"patients of blood type B\")\n",
    "    elif b==1:\n",
    "        print (\"There is\", b, \"patient of blood type B\")\n",
    "    else:\n",
    "        print (\"There are no patients of blood type B\")\n",
    "        \n",
    "    if c>1: \n",
    "        print (\"There are\", c, \"patients of blood type AB\")\n",
    "    elif c==1:\n",
    "        print (\"There is\", c, \"patient of blood type AB\")\n",
    "    else:\n",
    "        print (\"There are no patients of blood type AB\")\n",
    "        \n",
    "    if d>1: \n",
    "        print (\"There are\", d, \"patients of blood type O\")\n",
    "    elif d==1:\n",
    "        print (\"There is\", d, \"patient of blood type O\")\n",
    "    else:\n",
    "        print (\"There are no patients of blood type O\")\n",
    "        \n",
    "    if e>1: \n",
    "        print (\"There are\", e, \"patients of blood type OO\")\n",
    "    elif e==1:\n",
    "        print (\"There is\", e, \"patient of blood type OO\")\n",
    "    else:\n",
    "        print (\"There are no patients of blood type OO\")\n",
    "\n",
    "        \n",
    "   "
   ]
  },
  {
   "cell_type": "code",
   "execution_count": 23,
   "id": "af89a1e8",
   "metadata": {},
   "outputs": [],
   "source": [
    "#Question 8 Python\n",
    "\n",
    "def curconv(currency, amount):\n",
    "    with open('currencies.txt') as f:\n",
    "        for line in f:\n",
    "            currency_list = line.split(\" \")\n",
    "            if currency == currency_list[0]:\n",
    "                conversion_rate = float(currency_list[1])\n",
    "                final_value = amount*conversion_rate                \n",
    "    return final_value\n",
    "             \n",
    "\n",
    "   "
   ]
  },
  {
   "cell_type": "code",
   "execution_count": 25,
   "id": "b8da5ac1",
   "metadata": {},
   "outputs": [],
   "source": [
    "#Question 9 Python\n",
    "#Trying to add incompatible variables, as in adding 6 + ‘a’ --> TypeError\n",
    "#Referring to the 12th item of a list that has only 10 items --> IndexError\n",
    "#Using a value that is out of range for a function’s input, such as calling math.sqrt(-1.0) --> ValueError\n",
    "#Using an undeclared variable, such as print(x) when x has not been defined --> NameError\n",
    "#Trying to open a file that does not exist, such as mistyping the file name or looking in the wrong directory --> IOError"
   ]
  },
  {
   "cell_type": "code",
   "execution_count": 26,
   "id": "d7a6a21e",
   "metadata": {},
   "outputs": [
    {
     "name": "stdout",
     "output_type": "stream",
     "text": [
      "Please enter a word or sentence:apple\n",
      "Count of all characters is :\n",
      "  {'a': 1, 'p': 2, 'l': 1, 'e': 1}\n"
     ]
    }
   ],
   "source": [
    "#Question 10 Python\n",
    "\n",
    "string = input('Please enter a word or sentence:')\n",
    "freq = {}\n",
    "for i in string:\n",
    "    if i in freq:\n",
    "        freq[i] += 1\n",
    "    else:\n",
    "        freq[i] = 1\n",
    "print (\"Count of all characters is :\\n \", freq)"
   ]
  },
  {
   "cell_type": "code",
   "execution_count": 27,
   "id": "d7cd33ac",
   "metadata": {},
   "outputs": [
    {
     "name": "stdout",
     "output_type": "stream",
     "text": [
      "{'a': 1, 'p': 2, 'l': 1, 'e': 1}\n"
     ]
    }
   ],
   "source": [
    "def frequencies(string):\n",
    "    freq = {}\n",
    "    for j in string:\n",
    "        keys = freq.keys()\n",
    "        if j in keys:\n",
    "            freq[j] += 1\n",
    "        else:\n",
    "            freq[j] = 1\n",
    "    return freq\n",
    "print(frequencies('apple'))"
   ]
  }
 ],
 "metadata": {
  "kernelspec": {
   "display_name": "Python 3 (ipykernel)",
   "language": "python",
   "name": "python3"
  },
  "language_info": {
   "codemirror_mode": {
    "name": "ipython",
    "version": 3
   },
   "file_extension": ".py",
   "mimetype": "text/x-python",
   "name": "python",
   "nbconvert_exporter": "python",
   "pygments_lexer": "ipython3",
   "version": "3.9.12"
  }
 },
 "nbformat": 4,
 "nbformat_minor": 5
}
